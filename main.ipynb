{
 "cells": [
  {
   "cell_type": "markdown",
   "metadata": {},
   "source": []
  },
  {
   "cell_type": "markdown",
   "metadata": {},
   "source": [
    "We begin with a discussion of the capital asset pricing model (CAPM). This model explains the cross sectional return of an asset with one factor, systematic risk. It says that\n",
    "$$E(R_i) = R_f + \\beta_i (E(R_m) - R_f)\n",
    "$$\n",
    "where $R_i$ is the return of the asset, $R_m$ is the market return, and $R_f$ is the risk-free return. The coefficient $\\beta_i$ is calculated by regression.\n",
    "In the code below, we calculate beta for AAPL stock. Beta is given by the formula for the OLS regression coefficient. This is because CAPM theory is essentially a linear model with the intercept assumed to be 0."
   ]
  },
  {
   "cell_type": "code",
   "execution_count": null,
   "metadata": {},
   "outputs": [],
   "source": [
    "import yfinance as yf\n",
    "from datetime import datetime\n",
    "import pandas as pd\n",
    "import numpy as np\n",
    "\n",
    "stock = yf.download(\"AAPL\", start= datetime(2000,1,1), end = datetime(2025,1,1),interval='1mo')\n",
    "market = yf.download(\"SPY\", start= datetime(2000,1,1), end = datetime(2025,1,1),interval='1mo')\n",
    "\n",
    "R_i = stock['Close'].pct_change().dropna()\n",
    "R_m = market['Close'].pct_change().dropna()\n",
    "\n",
    "X = pd.concat([R_i, R_m], axis=1).dropna()\n",
    "beta = np.cov(X.T)[0][1] / np.cov(X.T)[1][1]\n",
    "print(\"beta of AAPL is: \", beta) "
   ]
  }
 ],
 "metadata": {
  "language_info": {
   "name": "python"
  }
 },
 "nbformat": 4,
 "nbformat_minor": 2
}
